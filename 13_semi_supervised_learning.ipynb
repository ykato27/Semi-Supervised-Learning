{
  "nbformat": 4,
  "nbformat_minor": 0,
  "metadata": {
    "accelerator": "GPU",
    "colab": {
      "name": "13_semi_supervised_learning.ipynb",
      "provenance": [],
      "collapsed_sections": [],
      "include_colab_link": true
    },
    "kernelspec": {
      "display_name": "Python 3",
      "language": "python",
      "name": "python3"
    },
    "language_info": {
      "codemirror_mode": {
        "name": "ipython",
        "version": 3
      },
      "file_extension": ".py",
      "mimetype": "text/x-python",
      "name": "python",
      "nbconvert_exporter": "python",
      "pygments_lexer": "ipython3",
      "version": "3.6.10"
    },
    "toc-autonumbering": false,
    "widgets": {
      "application/vnd.jupyter.widget-state+json": {
        "508ab549997142dabc402719bbb717f9": {
          "model_module": "@jupyter-widgets/controls",
          "model_name": "HBoxModel",
          "model_module_version": "1.5.0",
          "state": {
            "_view_name": "HBoxView",
            "_dom_classes": [],
            "_model_name": "HBoxModel",
            "_view_module": "@jupyter-widgets/controls",
            "_model_module_version": "1.5.0",
            "_view_count": null,
            "_view_module_version": "1.5.0",
            "box_style": "",
            "layout": "IPY_MODEL_6c3e0a11b8a94264932f94a2ec754997",
            "_model_module": "@jupyter-widgets/controls",
            "children": [
              "IPY_MODEL_ce791123e4c04505b554b08f85e5cadf",
              "IPY_MODEL_c2be234f00dc4340bb881ca33dea1a7f",
              "IPY_MODEL_07e5528fad1b4bcf9a3062f7ba090cba"
            ]
          }
        },
        "6c3e0a11b8a94264932f94a2ec754997": {
          "model_module": "@jupyter-widgets/base",
          "model_name": "LayoutModel",
          "model_module_version": "1.2.0",
          "state": {
            "_view_name": "LayoutView",
            "grid_template_rows": null,
            "right": null,
            "justify_content": null,
            "_view_module": "@jupyter-widgets/base",
            "overflow": null,
            "_model_module_version": "1.2.0",
            "_view_count": null,
            "flex_flow": null,
            "width": null,
            "min_width": null,
            "border": null,
            "align_items": null,
            "bottom": null,
            "_model_module": "@jupyter-widgets/base",
            "top": null,
            "grid_column": null,
            "overflow_y": null,
            "overflow_x": null,
            "grid_auto_flow": null,
            "grid_area": null,
            "grid_template_columns": null,
            "flex": null,
            "_model_name": "LayoutModel",
            "justify_items": null,
            "grid_row": null,
            "max_height": null,
            "align_content": null,
            "visibility": null,
            "align_self": null,
            "height": null,
            "min_height": null,
            "padding": null,
            "grid_auto_rows": null,
            "grid_gap": null,
            "max_width": null,
            "order": null,
            "_view_module_version": "1.2.0",
            "grid_template_areas": null,
            "object_position": null,
            "object_fit": null,
            "grid_auto_columns": null,
            "margin": null,
            "display": null,
            "left": null
          }
        },
        "ce791123e4c04505b554b08f85e5cadf": {
          "model_module": "@jupyter-widgets/controls",
          "model_name": "HTMLModel",
          "model_module_version": "1.5.0",
          "state": {
            "_view_name": "HTMLView",
            "style": "IPY_MODEL_e6088ce6359f4db583f4254dc0cf0e1f",
            "_dom_classes": [],
            "description": "",
            "_model_name": "HTMLModel",
            "placeholder": "​",
            "_view_module": "@jupyter-widgets/controls",
            "_model_module_version": "1.5.0",
            "value": "",
            "_view_count": null,
            "_view_module_version": "1.5.0",
            "description_tooltip": null,
            "_model_module": "@jupyter-widgets/controls",
            "layout": "IPY_MODEL_3d0a332f7ead4ffe871ddd9b8405f7e8"
          }
        },
        "c2be234f00dc4340bb881ca33dea1a7f": {
          "model_module": "@jupyter-widgets/controls",
          "model_name": "FloatProgressModel",
          "model_module_version": "1.5.0",
          "state": {
            "_view_name": "ProgressView",
            "style": "IPY_MODEL_1d75c68ae75749199b7df7bc646f4af4",
            "_dom_classes": [],
            "description": "",
            "_model_name": "FloatProgressModel",
            "bar_style": "success",
            "max": 170498071,
            "_view_module": "@jupyter-widgets/controls",
            "_model_module_version": "1.5.0",
            "value": 170498071,
            "_view_count": null,
            "_view_module_version": "1.5.0",
            "orientation": "horizontal",
            "min": 0,
            "description_tooltip": null,
            "_model_module": "@jupyter-widgets/controls",
            "layout": "IPY_MODEL_3c19c98977aa48b7a88fc3e6d178ea4b"
          }
        },
        "07e5528fad1b4bcf9a3062f7ba090cba": {
          "model_module": "@jupyter-widgets/controls",
          "model_name": "HTMLModel",
          "model_module_version": "1.5.0",
          "state": {
            "_view_name": "HTMLView",
            "style": "IPY_MODEL_2459798870ed4fd7b022f3ee781bb844",
            "_dom_classes": [],
            "description": "",
            "_model_name": "HTMLModel",
            "placeholder": "​",
            "_view_module": "@jupyter-widgets/controls",
            "_model_module_version": "1.5.0",
            "value": " 170499072/? [00:03&lt;00:00, 54744803.32it/s]",
            "_view_count": null,
            "_view_module_version": "1.5.0",
            "description_tooltip": null,
            "_model_module": "@jupyter-widgets/controls",
            "layout": "IPY_MODEL_fa16216eb9f04f0c99e816210319aa79"
          }
        },
        "e6088ce6359f4db583f4254dc0cf0e1f": {
          "model_module": "@jupyter-widgets/controls",
          "model_name": "DescriptionStyleModel",
          "model_module_version": "1.5.0",
          "state": {
            "_view_name": "StyleView",
            "_model_name": "DescriptionStyleModel",
            "description_width": "",
            "_view_module": "@jupyter-widgets/base",
            "_model_module_version": "1.5.0",
            "_view_count": null,
            "_view_module_version": "1.2.0",
            "_model_module": "@jupyter-widgets/controls"
          }
        },
        "3d0a332f7ead4ffe871ddd9b8405f7e8": {
          "model_module": "@jupyter-widgets/base",
          "model_name": "LayoutModel",
          "model_module_version": "1.2.0",
          "state": {
            "_view_name": "LayoutView",
            "grid_template_rows": null,
            "right": null,
            "justify_content": null,
            "_view_module": "@jupyter-widgets/base",
            "overflow": null,
            "_model_module_version": "1.2.0",
            "_view_count": null,
            "flex_flow": null,
            "width": null,
            "min_width": null,
            "border": null,
            "align_items": null,
            "bottom": null,
            "_model_module": "@jupyter-widgets/base",
            "top": null,
            "grid_column": null,
            "overflow_y": null,
            "overflow_x": null,
            "grid_auto_flow": null,
            "grid_area": null,
            "grid_template_columns": null,
            "flex": null,
            "_model_name": "LayoutModel",
            "justify_items": null,
            "grid_row": null,
            "max_height": null,
            "align_content": null,
            "visibility": null,
            "align_self": null,
            "height": null,
            "min_height": null,
            "padding": null,
            "grid_auto_rows": null,
            "grid_gap": null,
            "max_width": null,
            "order": null,
            "_view_module_version": "1.2.0",
            "grid_template_areas": null,
            "object_position": null,
            "object_fit": null,
            "grid_auto_columns": null,
            "margin": null,
            "display": null,
            "left": null
          }
        },
        "1d75c68ae75749199b7df7bc646f4af4": {
          "model_module": "@jupyter-widgets/controls",
          "model_name": "ProgressStyleModel",
          "model_module_version": "1.5.0",
          "state": {
            "_view_name": "StyleView",
            "_model_name": "ProgressStyleModel",
            "description_width": "",
            "_view_module": "@jupyter-widgets/base",
            "_model_module_version": "1.5.0",
            "_view_count": null,
            "_view_module_version": "1.2.0",
            "bar_color": null,
            "_model_module": "@jupyter-widgets/controls"
          }
        },
        "3c19c98977aa48b7a88fc3e6d178ea4b": {
          "model_module": "@jupyter-widgets/base",
          "model_name": "LayoutModel",
          "model_module_version": "1.2.0",
          "state": {
            "_view_name": "LayoutView",
            "grid_template_rows": null,
            "right": null,
            "justify_content": null,
            "_view_module": "@jupyter-widgets/base",
            "overflow": null,
            "_model_module_version": "1.2.0",
            "_view_count": null,
            "flex_flow": null,
            "width": null,
            "min_width": null,
            "border": null,
            "align_items": null,
            "bottom": null,
            "_model_module": "@jupyter-widgets/base",
            "top": null,
            "grid_column": null,
            "overflow_y": null,
            "overflow_x": null,
            "grid_auto_flow": null,
            "grid_area": null,
            "grid_template_columns": null,
            "flex": null,
            "_model_name": "LayoutModel",
            "justify_items": null,
            "grid_row": null,
            "max_height": null,
            "align_content": null,
            "visibility": null,
            "align_self": null,
            "height": null,
            "min_height": null,
            "padding": null,
            "grid_auto_rows": null,
            "grid_gap": null,
            "max_width": null,
            "order": null,
            "_view_module_version": "1.2.0",
            "grid_template_areas": null,
            "object_position": null,
            "object_fit": null,
            "grid_auto_columns": null,
            "margin": null,
            "display": null,
            "left": null
          }
        },
        "2459798870ed4fd7b022f3ee781bb844": {
          "model_module": "@jupyter-widgets/controls",
          "model_name": "DescriptionStyleModel",
          "model_module_version": "1.5.0",
          "state": {
            "_view_name": "StyleView",
            "_model_name": "DescriptionStyleModel",
            "description_width": "",
            "_view_module": "@jupyter-widgets/base",
            "_model_module_version": "1.5.0",
            "_view_count": null,
            "_view_module_version": "1.2.0",
            "_model_module": "@jupyter-widgets/controls"
          }
        },
        "fa16216eb9f04f0c99e816210319aa79": {
          "model_module": "@jupyter-widgets/base",
          "model_name": "LayoutModel",
          "model_module_version": "1.2.0",
          "state": {
            "_view_name": "LayoutView",
            "grid_template_rows": null,
            "right": null,
            "justify_content": null,
            "_view_module": "@jupyter-widgets/base",
            "overflow": null,
            "_model_module_version": "1.2.0",
            "_view_count": null,
            "flex_flow": null,
            "width": null,
            "min_width": null,
            "border": null,
            "align_items": null,
            "bottom": null,
            "_model_module": "@jupyter-widgets/base",
            "top": null,
            "grid_column": null,
            "overflow_y": null,
            "overflow_x": null,
            "grid_auto_flow": null,
            "grid_area": null,
            "grid_template_columns": null,
            "flex": null,
            "_model_name": "LayoutModel",
            "justify_items": null,
            "grid_row": null,
            "max_height": null,
            "align_content": null,
            "visibility": null,
            "align_self": null,
            "height": null,
            "min_height": null,
            "padding": null,
            "grid_auto_rows": null,
            "grid_gap": null,
            "max_width": null,
            "order": null,
            "_view_module_version": "1.2.0",
            "grid_template_areas": null,
            "object_position": null,
            "object_fit": null,
            "grid_auto_columns": null,
            "margin": null,
            "display": null,
            "left": null
          }
        }
      }
    }
  },
  "cells": [
    {
      "cell_type": "markdown",
      "metadata": {
        "id": "view-in-github",
        "colab_type": "text"
      },
      "source": [
        "<a href=\"https://colab.research.google.com/github/ykato27/Semi-Supervised-Learning/blob/main/13_semi_supervised_learning.ipynb\" target=\"_parent\"><img src=\"https://colab.research.google.com/assets/colab-badge.svg\" alt=\"Open In Colab\"/></a>"
      ]
    },
    {
      "cell_type": "markdown",
      "metadata": {
        "id": "T4x9rmDiUTI1"
      },
      "source": [
        "# 13. 半教師付き学習\n",
        "\n",
        "DNNは一般的に，大量の教師ラベル付きデータを用いて学習を行うことで高い認識性能を発揮しています．しかし，教師ラベルは人手によって付与されるため，データ数に比例して人的コストが増えてしまいます．また，問題設定によっては画像に対して1ピクセル毎のラベル付けが必要な場合やデータ自体を集めることが困難な場合もあります．これらのことから期待される問題設定やタスクに対して理想的なデータセット（大量の教師ラベル付きデータ）を用意するのは多くの場合困難です．このような問題を解決する学習方法の１つとして「半教師付き学習」があります．\n",
        "\n",
        "<img src=\"https://dl.dropboxusercontent.com/s/cw3nd3iq0ggb01g/sup.png\" width = 57%>\n",
        "\n",
        "半教師付き学習（Semi-supervised Learning）は，教師ラベル付きデータと教師ラベルなしデータの両方を含むデータセットを利用した学習方法です．問題設定として一般的に，教師ラベル付きデータと比較して大量の教師ラベルなしデータが用意されています．\n",
        "\n",
        "<img src=\"https://dl.dropboxusercontent.com/s/wljsvzdlb9f9ivn/semi_sup.png\" width = 57%>\n",
        "\n",
        "半教師付き学習として様々な学習方法が提案されてますが，ここではConsistency Regularizationという枠組みについて紹介します．"
      ]
    },
    {
      "cell_type": "markdown",
      "metadata": {
        "id": "tPyzEOSCUTI1"
      },
      "source": [
        "# Consistency Regularization\n",
        "\n",
        "Consistency Regularizationは，教師ラベルなしデータに対する出力が一貫性を持つように学習をします．ここで，一貫性とは同一画像に対してノイズなどによって出力が左右されないことを表します．\n",
        "ネットワークはノイズや幾何学変換などに頑健な特徴抽出器を獲得するため，教師ラベルを利用しないものの正解率の向上に寄与します．\n",
        "\n",
        "<img src=\"https://dl.dropboxusercontent.com/s/40zfvwq2eksud9k/CR.png\" width = 57%>\n",
        "\n",
        "## 学習方法\n",
        "Consistency Regularizationは，ネットワークに入力されたデータが教師ラベルを持つか否かによって学習の流れが異なります．\n",
        "\n",
        "### 教師ラベル付きデータ\n",
        "1. ネットワークにデータを入力\n",
        "2. ネットワークが出力した確率分布と教師ラベルからCross Entropyを計算\n",
        "\n",
        "### 教師ラベルなしデータ\n",
        "1. データに対して摂動（ノイズやデータ増幅）を付与\n",
        "2. データ（または摂動を付与したデータ）と摂動を付与したデータをネットワークに入力\n",
        "3. ネットワークが出力した2つの確率分布の相違度を計算\n",
        "\n",
        "ネットワークは，「教師ラベル付きデータから算出したCross Entropy」と「教師ラベルなしデータから算出した確率分布の相違度」を損失関数として学習が行われます．\n",
        "確率分布の相違度を小さくするように学習が行われるため，摂動に左右されないネットワークを獲得します．\n",
        "学習の流れは多くの場合共通ですが，摂動の内容や摂動の付与方法，確率分布間の相違度の計算方法などによって以下のような様々な手法が提案されています．\n",
        "\n",
        "<img src=\"https://dl.dropboxusercontent.com/s/t862ozembfzb1vi/semi_sup_list.png\" width = 65%>\n"
      ]
    },
    {
      "cell_type": "markdown",
      "metadata": {
        "id": "Vaz2xHBVUTI1"
      },
      "source": [
        "# 畳み込みニューラルネットワークの半教師付き学習\n",
        "クラス分類問題において，半教師付き学習によってネットワークを学習します．\\\n",
        "以降では，教師ラベル付きデータを教師付きデータ，教師ラベルなしデータを教師なしデータと呼びます．\n",
        "\n",
        "プログラムの構成は以下の通りになります．\n",
        "1. データセットの定義　　　：教師付きデータのデータセットと教師なしデータのデータセットを定義します．\n",
        "2. ネットワークの定義　　　：学習を行うネットワークを定義します，\n",
        "3. 教師付き学習による評価　：教師付きデータセットとネットワークを用いて教師付き学習を行います．\n",
        "4. 半教師付き学習による評価：教師付きデータセット，教師なしデータセットとネットワークを用いて半教師付き学習を行います．"
      ]
    },
    {
      "cell_type": "markdown",
      "metadata": {
        "id": "WK1A84wlAedD"
      },
      "source": [
        "## モジュールの読み込み"
      ]
    },
    {
      "cell_type": "code",
      "metadata": {
        "id": "6jjnSOmeTtzw"
      },
      "source": [
        "import random\n",
        "import numpy as np\n",
        "import matplotlib.pyplot as plt\n",
        "import PIL, PIL.ImageOps, PIL.ImageEnhance, PIL.ImageDraw\n",
        "from time import time\n",
        "from PIL import Image\n",
        "from collections import defaultdict\n",
        "from sklearn.model_selection import StratifiedShuffleSplit\n",
        "\n",
        "import torch\n",
        "import torch.nn as nn\n",
        "import torch.nn.functional as F\n",
        "import torchvision\n",
        "import torchvision.transforms as transforms\n",
        "#import torchsummary\n",
        "from torch.utils.data import Sampler\n",
        "from torch.utils.data import SubsetRandomSampler, Subset, Dataset"
      ],
      "execution_count": 1,
      "outputs": []
    },
    {
      "cell_type": "markdown",
      "metadata": {
        "id": "25j5APz8F_Tf"
      },
      "source": [
        "## データセットの準備"
      ]
    },
    {
      "cell_type": "markdown",
      "metadata": {
        "id": "-jqF0puazTMK"
      },
      "source": [
        "### データ増幅の定義\n",
        "ここでは，教師付きデータに対するデータ増幅，教師なしデータに摂動として付与するデータ増幅，評価用データに対するデータ増幅の3つを定義します．"
      ]
    },
    {
      "cell_type": "code",
      "metadata": {
        "id": "ND3_3dOWUTI1"
      },
      "source": [
        "# 教師付きデータに対するデータ増幅\n",
        "transform_A = transforms.Compose([\n",
        "    transforms.ToTensor(),\n",
        "    transforms.Normalize((0.4914, 0.4822, 0.4465), (0.2470, 0.2435, 0.2616)),\n",
        "])\n",
        "\n",
        "# 教師なしデータに対するデータ増幅（摂動）\n",
        "transform_B = transforms.Compose([\n",
        "    transforms.RandomHorizontalFlip(), \n",
        "    transforms.Pad(4, padding_mode=\"reflect\"), \n",
        "    transforms.RandomCrop(32), \n",
        "    transforms.ToTensor(),\n",
        "    transforms.Normalize((0.4914, 0.4822, 0.4465), (0.2470, 0.2435, 0.2616)),\n",
        "])\n",
        "\n",
        "# 評価用データに対するデータ増幅\n",
        "test_transform = transforms.Compose([\n",
        "    transforms.ToTensor(),\n",
        "    transforms.Normalize((0.4914, 0.4822, 0.4465), (0.2470, 0.2435, 0.2616)),\n",
        "])"
      ],
      "execution_count": 2,
      "outputs": []
    },
    {
      "cell_type": "markdown",
      "metadata": {
        "id": "wWfN6vvFUTI1"
      },
      "source": [
        "### ベースとなるデータセットの定義\n",
        "半教師付き学習手法の評価には，一般的に教師付き学習に用いるベンチマークデータセットが利用されます．\\\n",
        "データセットとして，一般物体認識用データセットであるCIFAR-10を用います．\\\n",
        "CIFAR-10は，10クラス（飛行機，自動車，鳥，猫，鹿，犬，カエル，馬，船，トラック）の画像から構成されるデータセットです．"
      ]
    },
    {
      "cell_type": "code",
      "metadata": {
        "colab": {
          "base_uri": "https://localhost:8080/",
          "height": 117,
          "referenced_widgets": [
            "508ab549997142dabc402719bbb717f9",
            "6c3e0a11b8a94264932f94a2ec754997",
            "ce791123e4c04505b554b08f85e5cadf",
            "c2be234f00dc4340bb881ca33dea1a7f",
            "07e5528fad1b4bcf9a3062f7ba090cba",
            "e6088ce6359f4db583f4254dc0cf0e1f",
            "3d0a332f7ead4ffe871ddd9b8405f7e8",
            "1d75c68ae75749199b7df7bc646f4af4",
            "3c19c98977aa48b7a88fc3e6d178ea4b",
            "2459798870ed4fd7b022f3ee781bb844",
            "fa16216eb9f04f0c99e816210319aa79"
          ]
        },
        "id": "Au8la3afUTI1",
        "outputId": "12d34c6f-6dc0-4b34-d6ec-8c8c1757123e"
      },
      "source": [
        "# 学習用データ\n",
        "total_trainset = torchvision.datasets.CIFAR10(root=\"./dataset/CIFAR-10\", train=True,  download=True, transform=transform_A)\n",
        "unsup_trainset = torchvision.datasets.CIFAR10(root=\"./dataset/CIFAR-10\", train=True,  download=True, transform=None)\n",
        "\n",
        "# 評価用データ\n",
        "testset = torchvision.datasets.CIFAR10(root=\"./dataset/CIFAR-10\", train=False, download=True, transform=test_transform)"
      ],
      "execution_count": 3,
      "outputs": [
        {
          "output_type": "stream",
          "name": "stdout",
          "text": [
            "Downloading https://www.cs.toronto.edu/~kriz/cifar-10-python.tar.gz to ./dataset/CIFAR-10/cifar-10-python.tar.gz\n"
          ]
        },
        {
          "output_type": "display_data",
          "data": {
            "application/vnd.jupyter.widget-view+json": {
              "model_id": "508ab549997142dabc402719bbb717f9",
              "version_minor": 0,
              "version_major": 2
            },
            "text/plain": [
              "  0%|          | 0/170498071 [00:00<?, ?it/s]"
            ]
          },
          "metadata": {}
        },
        {
          "output_type": "stream",
          "name": "stdout",
          "text": [
            "Extracting ./dataset/CIFAR-10/cifar-10-python.tar.gz to ./dataset/CIFAR-10\n",
            "Files already downloaded and verified\n",
            "Files already downloaded and verified\n"
          ]
        }
      ]
    },
    {
      "cell_type": "markdown",
      "metadata": {
        "id": "8x993wPPUTI2"
      },
      "source": [
        "### データセットの分割\n",
        "先程定義したデータセットは全て教師付きデータであるため，まず初めにデータセットを教師付きデータと教師なしデータに分割します．\n",
        "ここでは，教師付きデータと教師なしデータに割り振るデータのidのみを取得します．\n",
        "教師なしデータの数はStratifiedShuffleSplitの引数「test_size」で決定し，教師付きデータの数は全体のデータ数からtest_sizeとして指定したデータ数の差分となります．\n",
        "今回は，教師付きデータ100枚，教師なしデータ49,900枚とします．"
      ]
    },
    {
      "cell_type": "code",
      "metadata": {
        "id": "L5LEgWDCUTI2"
      },
      "source": [
        "# StratifiedShuffleSplit：データをシャッフルして分割\n",
        "sss = StratifiedShuffleSplit(n_splits=1, test_size=49900, random_state=0)\n",
        "\n",
        "# list(range(len(total_trainset)))：データidのリスト，total_trainset.targets：データidに対応するラベル\n",
        "sss = sss.split(list(range(len(total_trainset))), total_trainset.targets)\n",
        "\n",
        "# 教師付きデータと教師なしデータのデータidを取得\n",
        "label_idx, unlabel_idx = next(sss)"
      ],
      "execution_count": 4,
      "outputs": []
    },
    {
      "cell_type": "markdown",
      "metadata": {
        "id": "hR6aeccsUTI2"
      },
      "source": [
        "### Datasetの定義\n",
        "Consistency Regularizationを行うには，教師なしデータ１枚につき，摂動を施した２枚の画像を取得する必要があります．\\\n",
        "データセットからデータを取得するアルゴリズムはDatasetクラスにより制御します．今回は自作のDatasetクラスを利用します．"
      ]
    },
    {
      "cell_type": "code",
      "metadata": {
        "id": "40mubfsSwG6D"
      },
      "source": [
        "# 自作 Dataset\n",
        "class UnsupervisedDataset(Dataset):\n",
        "    def __init__(self, dataset, transform_1, transform_2):\n",
        "        self.dataset = dataset          # データセット\n",
        "        self.transform_1 = transform_1  # 摂動１\n",
        "        self.transform_2 = transform_2  # 摂動２\n",
        "\n",
        "    def __getitem__(self, index):\n",
        "        img, _ = self.dataset[index]  # データセットからデータを取得\n",
        "\n",
        "        # 同一画像から2つの画像を作成\n",
        "        img1 = self.transform_1(img)  # データに摂動１を適用\n",
        "        img2 = self.transform_2(img)  # データに摂動２を適用\n",
        "\n",
        "        return img1, img2\n",
        "\n",
        "    def __len__(self):\n",
        "        return len(self.dataset)  # このクラスに対してlen()を行った際にデータセットのデータ数を返すように設定"
      ],
      "execution_count": 5,
      "outputs": []
    },
    {
      "cell_type": "markdown",
      "metadata": {
        "id": "Lyqubj8WUTI2"
      },
      "source": [
        "### データセットの定義\n",
        "「データセットの分割」で取得したデータidを用いて教師付きデータセットと教師なしデータセットを定義します．"
      ]
    },
    {
      "cell_type": "code",
      "metadata": {
        "id": "7QD0dF51wG4M"
      },
      "source": [
        "# 教師付きデータセットを作成（データ増幅はtotal_trainsetで設定したものを実行）\n",
        "trainset = Subset(total_trainset, label_idx)\n",
        "train_labels          = [total_trainset.targets[idx] for idx in label_idx]\n",
        "trainset.train_labels = train_labels\n",
        "\n",
        "# 教師なしデータセットを作成\n",
        "otherset = Subset(unsup_trainset, unlabel_idx)\n",
        "otherset = UnsupervisedDataset(otherset, transform_B, transform_B)  # 第１引数：教師なしデータ，第２引数：摂動１，第３引数：摂動２"
      ],
      "execution_count": 6,
      "outputs": []
    },
    {
      "cell_type": "code",
      "metadata": {
        "colab": {
          "base_uri": "https://localhost:8080/"
        },
        "id": "06QrpYgE6X3J",
        "outputId": "11da5460-ca28-4ac3-fcbe-05fbc1966a6e"
      },
      "source": [
        "print(\"データ数\")\n",
        "print(\"教師付きデータ：\", len(trainset))\n",
        "print(\"教師なしデータ：\", len(otherset))"
      ],
      "execution_count": 7,
      "outputs": [
        {
          "output_type": "stream",
          "name": "stdout",
          "text": [
            "データ数\n",
            "教師付きデータ： 100\n",
            "教師なしデータ： 49900\n"
          ]
        }
      ]
    },
    {
      "cell_type": "markdown",
      "metadata": {
        "id": "_ymegZQeUTI3"
      },
      "source": [
        "### Samplerの定義\n",
        "ネットワークの学習時にデータセットから学習用データをランダムに取得する必要があります．\n",
        "今回は，教師付きデータが少ないため，ミニバッチ内の教師付きデータ数を小さく設定します．\n",
        "そのため，教師付きデータを各クラスからバランスよく取得することを考えます．\n",
        "データセットの中から取得するデータを決定するアルゴリズムはSamplerクラスにより制御します．\n",
        "今回は自作のSamplerクラスを利用します．"
      ]
    },
    {
      "cell_type": "code",
      "metadata": {
        "id": "8FiDCrBgJM8S"
      },
      "source": [
        "# 自作 Sampler\n",
        "class StratifiedSampler(Sampler):\n",
        "    def __init__(self, labels):\n",
        "        self.idx_by_lb = defaultdict(list)\n",
        "        for idx, lb in enumerate(labels):\n",
        "            self.idx_by_lb[lb].append(idx)\n",
        "\n",
        "        self.size = len(labels)\n",
        "\n",
        "    def __len__(self):\n",
        "        return self.size\n",
        "\n",
        "    def __iter__(self):\n",
        "        songs_list = []\n",
        "        artists_list = []\n",
        "        for lb, v in self.idx_by_lb.items():\n",
        "            for idx in v:\n",
        "                songs_list.append(idx)\n",
        "                artists_list.append(lb)\n",
        "\n",
        "        shuffled = spotifyShuffle(songs_list, artists_list)\n",
        "        return iter(shuffled)\n",
        "\n",
        "\n",
        "def fisherYatesShuffle(arr):\n",
        "    for i in range(len(arr)-1, 0, -1):\n",
        "        j = random.randint(0, i)\n",
        "        arr[i], arr[j] = arr[j], arr[i]\n",
        "    return arr\n",
        "\n",
        "\n",
        "def spotifyShuffle(songs_list, artists_list):\n",
        "    artist2songs = defaultdict(list)\n",
        "    for artist, song in zip(artists_list, songs_list):\n",
        "        artist2songs[artist].append(song)\n",
        "    songList = []\n",
        "    songsLocs = []\n",
        "    for artist, songs in artist2songs.items():\n",
        "        songs = fisherYatesShuffle(songs)\n",
        "        songList += songs\n",
        "        songsLocs += get_locs(len(songs))\n",
        "    return [songList[idx] for idx in argsort(songsLocs)]\n",
        "\n",
        "\n",
        "def get_locs(n):\n",
        "    percent = 1. / n\n",
        "    locs = [percent * random.random()]\n",
        "    last = locs[0]\n",
        "    for i in range(n - 1):\n",
        "        value = last + percent * random.uniform(0.8, 1.2)\n",
        "        locs.append(value)\n",
        "        last = value\n",
        "    return locs\n",
        "\n",
        "\n",
        "def argsort(seq):\n",
        "    return [i for i, j in sorted(enumerate(seq), key=lambda x:x[1])]"
      ],
      "execution_count": 8,
      "outputs": []
    },
    {
      "cell_type": "markdown",
      "metadata": {
        "id": "SgDSZ48PUTI3"
      },
      "source": [
        "### Dataloaderの定義\n",
        "今回はバッチサイズを512（ラベルありデータ10枚，ラベルなしデータ251枚 × 摂動により2倍）とします．"
      ]
    },
    {
      "cell_type": "code",
      "metadata": {
        "id": "uin-5_AhwmnD",
        "colab": {
          "base_uri": "https://localhost:8080/"
        },
        "outputId": "3b30fee6-49d8-400c-8bdb-3b59289de07b"
      },
      "source": [
        "# 教師付きデータセット用 Dataloader\n",
        "train_loader = torch.utils.data.DataLoader(trainset, \n",
        "                                           batch_size=10, \n",
        "                                           shuffle=False,   # Samplerを利用するためFalse\n",
        "                                           num_workers=16, \n",
        "                                           pin_memory=True,\n",
        "                                           sampler=StratifiedSampler(trainset.train_labels),  # 自作のSampler\n",
        "                                           drop_last=True)\n",
        "\n",
        "# 教師なしデータセット用 Dataloader\n",
        "unsup_loader = torch.utils.data.DataLoader(otherset, \n",
        "                                           batch_size=251,\n",
        "                                           shuffle=True,    # Samplerを利用しないためTure\n",
        "                                           num_workers=16, \n",
        "                                           pin_memory=True, \n",
        "                                           drop_last=True)\n",
        "\n",
        "# 評価データ用 Dataloader\n",
        "test_loader  = torch.utils.data.DataLoader(testset, \n",
        "                                           batch_size=1000,\n",
        "                                           shuffle=False, \n",
        "                                           num_workers=16, \n",
        "                                           pin_memory=True, \n",
        "                                           drop_last=False)"
      ],
      "execution_count": 9,
      "outputs": [
        {
          "output_type": "stream",
          "name": "stderr",
          "text": [
            "/usr/local/lib/python3.7/dist-packages/torch/utils/data/dataloader.py:481: UserWarning: This DataLoader will create 16 worker processes in total. Our suggested max number of worker in current system is 2, which is smaller than what this DataLoader is going to create. Please be aware that excessive worker creation might get DataLoader running slow or even freeze, lower the worker number to avoid potential slowness/freeze if necessary.\n",
            "  cpuset_checked))\n"
          ]
        }
      ]
    },
    {
      "cell_type": "markdown",
      "metadata": {
        "id": "aCU0WUHXUTI3"
      },
      "source": [
        "### Samplerによるデータ取得の確認\n",
        "ここでは先程定義した自作Samplerクラスによってdataloaderからクラスのバランスよく教師付きデータが取得されているのかを確認します．"
      ]
    },
    {
      "cell_type": "code",
      "metadata": {
        "colab": {
          "base_uri": "https://localhost:8080/"
        },
        "id": "7qcgtPcCUTI3",
        "outputId": "b2f00102-5578-4783-9c71-2e3be6f1c773"
      },
      "source": [
        "tmp = train_loader.__iter__()\n",
        "for _ in range(5):\n",
        "    data1, label1 = tmp.next()      # 教師付きデータのDataloaderからデータと教師ラベルを取得\n",
        "    print(np.sort(label1.numpy()))  # 教師ラベルをソートして表示"
      ],
      "execution_count": 10,
      "outputs": [
        {
          "output_type": "stream",
          "name": "stderr",
          "text": [
            "/usr/local/lib/python3.7/dist-packages/torch/utils/data/dataloader.py:481: UserWarning: This DataLoader will create 16 worker processes in total. Our suggested max number of worker in current system is 2, which is smaller than what this DataLoader is going to create. Please be aware that excessive worker creation might get DataLoader running slow or even freeze, lower the worker number to avoid potential slowness/freeze if necessary.\n",
            "  cpuset_checked))\n"
          ]
        },
        {
          "output_type": "stream",
          "name": "stdout",
          "text": [
            "[0 1 2 3 4 5 6 7 8 9]\n",
            "[0 1 2 3 4 5 6 7 9 9]\n",
            "[0 1 2 3 4 5 6 7 8 9]\n",
            "[0 1 2 3 4 5 6 7 8 9]\n",
            "[0 1 2 3 4 6 7 7 8 9]\n"
          ]
        }
      ]
    },
    {
      "cell_type": "markdown",
      "metadata": {
        "id": "8ysGfkjygN8G"
      },
      "source": [
        "### データの可視化\n",
        "ここでは先程定義した摂動と自作Datasetクラスによって１つの教師なしデータに対してどのような摂動が与えられたのか（視覚的にどう違うのか）を確認します．"
      ]
    },
    {
      "cell_type": "code",
      "metadata": {
        "colab": {
          "base_uri": "https://localhost:8080/",
          "height": 340
        },
        "id": "zy3f6dD_UTI3",
        "outputId": "5a1ba9f6-20b0-4143-9548-6235981df7a7"
      },
      "source": [
        "tmp = unsup_loader.__iter__()\n",
        "data1, data2 = tmp.next()      # 教師なしデータのDataloaderから摂動を付与した２つのデータを取得\n",
        "\n",
        "# データの可視化\n",
        "fig, (ax1, ax2) = plt.subplots(ncols=2, figsize=(8,4))\n",
        "\n",
        "ax1.imshow(data1[0].permute(1,2,0))\n",
        "ax2.imshow(data2[0].permute(1,2,0))\n",
        "\n",
        "fig.show()"
      ],
      "execution_count": 11,
      "outputs": [
        {
          "output_type": "stream",
          "name": "stderr",
          "text": [
            "/usr/local/lib/python3.7/dist-packages/torch/utils/data/dataloader.py:481: UserWarning: This DataLoader will create 16 worker processes in total. Our suggested max number of worker in current system is 2, which is smaller than what this DataLoader is going to create. Please be aware that excessive worker creation might get DataLoader running slow or even freeze, lower the worker number to avoid potential slowness/freeze if necessary.\n",
            "  cpuset_checked))\n",
            "Clipping input data to the valid range for imshow with RGB data ([0..1] for floats or [0..255] for integers).\n",
            "Clipping input data to the valid range for imshow with RGB data ([0..1] for floats or [0..255] for integers).\n"
          ]
        },
        {
          "output_type": "display_data",
          "data": {
            "image/png": "[encoded data removed]",
            "text/plain": [
              "<Figure size 576x288 with 2 Axes>"
            ]
          },
          "metadata": {
            "needs_background": "light"
          }
        }
      ]
    },
    {
      "cell_type": "markdown",
      "metadata": {
        "id": "AwXJszqqkYE3"
      },
      "source": [
        "## ネットワークの定義\n",
        "畳み込みニューラルネットワークの定義をします．\\\n",
        "ここでは，11.knowledge_distillationや12.deep_mutual_learningで使用したネットワークと同様のものを利用します．"
      ]
    },
    {
      "cell_type": "code",
      "metadata": {
        "id": "mj8-_UzOTtz9"
      },
      "source": [
        "class CNN(nn.Module):\n",
        "    def __init__(self, widen_factor=1):\n",
        "        super().__init__()\n",
        "        self.conv1 = nn.Conv2d(3, 16*widen_factor, kernel_size=3, stride=1, padding=1)\n",
        "        self.conv2 = nn.Conv2d(16*widen_factor, 32*widen_factor, kernel_size=3, stride=1, padding=1)\n",
        "        self.l1 = nn.Linear(8*8*32*widen_factor, 1024*widen_factor)\n",
        "        self.l2 = nn.Linear(1024*widen_factor, 1024*widen_factor)\n",
        "        self.l3 = nn.Linear(1024*widen_factor, 10)\n",
        "        self.act = nn.ReLU()\n",
        "        self.pool = nn.MaxPool2d(2, 2)\n",
        "    \n",
        "    def forward(self, x):\n",
        "        h = self.pool(self.act(self.conv1(x)))\n",
        "        h = self.pool(self.act(self.conv2(h)))\n",
        "        h = h.view(h.size()[0], -1)\n",
        "        h = self.act(self.l1(h))\n",
        "        h = self.act(self.l2(h))\n",
        "        h = self.l3(h)\n",
        "        return h"
      ],
      "execution_count": 12,
      "outputs": []
    },
    {
      "cell_type": "markdown",
      "metadata": {
        "id": "Wxg52VoDUTI3"
      },
      "source": [
        "## 教師付き学習による学習と評価\n",
        "半教師付き学習による学習結果と比較をするために，教師付きデータのみを用いた教師付き学習を行います．"
      ]
    },
    {
      "cell_type": "markdown",
      "metadata": {
        "id": "CqK5QGdyUTI3"
      },
      "source": [
        "### 学習条件の設定"
      ]
    },
    {
      "cell_type": "code",
      "metadata": {
        "id": "1gNzw4nwUTI3"
      },
      "source": [
        "# エポック数の設定\n",
        "NUM_EPOCH = 25\n",
        "\n",
        "# ネットワークの用意\n",
        "net_sup = CNN(widen_factor=1).cuda()\n",
        "\n",
        "# オプティマイザの設定\n",
        "optimizer = torch.optim.SGD(net_sup.parameters(), lr=0.01, momentum=0.9)"
      ],
      "execution_count": 13,
      "outputs": []
    },
    {
      "cell_type": "markdown",
      "metadata": {
        "id": "tEaYI-DyUTI3"
      },
      "source": [
        "### 学習と評価"
      ]
    },
    {
      "cell_type": "code",
      "metadata": {
        "colab": {
          "base_uri": "https://localhost:8080/"
        },
        "id": "iNAzb4D3UTI3",
        "outputId": "1e246608-8baa-4f16-b291-73a67313d8de"
      },
      "source": [
        "# ネットワークを学習モードへ変更\n",
        "net_sup.train()\n",
        "\n",
        "start = time()\n",
        "for epoch in range(1, NUM_EPOCH+1):\n",
        "    # ネットワークの学習 ----------------------------------------------------------\n",
        "    # ネットワークを学習モードへ変更\n",
        "    net_sup.train()\n",
        "\n",
        "    # ログ用の設定\n",
        "    sum_loss = 0.0\n",
        "    count = 0\n",
        "    \n",
        "    for image, label in train_loader:\n",
        "        # 学習データをGPUへ\n",
        "        image = image.cuda()\n",
        "        label = label.cuda()\n",
        "        \n",
        "        # ネットワークへ学習データを入力\n",
        "        logits = net_sup(image)\n",
        "        \n",
        "        # 損失の計算(教師付きデータ)\n",
        "        loss = F.cross_entropy(logits, label)\n",
        "        \n",
        "        # パラメータの更新\n",
        "        net_sup.zero_grad()\n",
        "        loss.backward()\n",
        "        optimizer.step()\n",
        "        \n",
        "        # ログ用に損失と精度の取得\n",
        "        sum_loss += loss.item()\n",
        "        \n",
        "        pred   = torch.argmax(logits, dim=1)\n",
        "        count += torch.sum(pred == label)\n",
        "        \n",
        "    # ログの表示\n",
        "    print(f\"epoch: {epoch},\\\n",
        "  mean loss: {round(sum_loss/len(train_loader), 3)},\\\n",
        "  mean accuracy: {round(count.item()/len(train_loader.dataset), 2)},\\\n",
        "  elapsed_time :{round(time()-start, 2)}\")\n",
        "\n",
        "    # ネットワークの評価 ----------------------------------------------------------\n",
        "    if epoch%5 == 0:  # 5 epoch毎に評価\n",
        "        # ネットワークを評価モードへ変更\n",
        "        net_sup.eval()\n",
        "\n",
        "        # 評価の実行\n",
        "        count = 0\n",
        "        with torch.no_grad():\n",
        "            for image, label in test_loader:\n",
        "                \n",
        "                image = image.cuda()\n",
        "                label = label.cuda()\n",
        "                \n",
        "                logits = net_sup(image)\n",
        "                \n",
        "                pred   = torch.argmax(logits, dim=1)\n",
        "                count += torch.sum(pred == label)\n",
        "\n",
        "        # 評価結果の表示\n",
        "        print(f\"test accuracy: {count.item()/len(test_loader.dataset)}\")"
      ],
      "execution_count": 14,
      "outputs": [
        {
          "output_type": "stream",
          "name": "stderr",
          "text": [
            "/usr/local/lib/python3.7/dist-packages/torch/utils/data/dataloader.py:481: UserWarning: This DataLoader will create 16 worker processes in total. Our suggested max number of worker in current system is 2, which is smaller than what this DataLoader is going to create. Please be aware that excessive worker creation might get DataLoader running slow or even freeze, lower the worker number to avoid potential slowness/freeze if necessary.\n",
            "  cpuset_checked))\n",
            "/usr/local/lib/python3.7/dist-packages/torch/nn/functional.py:718: UserWarning: Named tensors and all their associated APIs are an experimental feature and subject to change. Please do not use them for anything important until they are released as stable. (Triggered internally at  /pytorch/c10/core/TensorImpl.h:1156.)\n",
            "  return torch.max_pool2d(input, kernel_size, stride, padding, dilation, ceil_mode)\n"
          ]
        },
        {
          "output_type": "stream",
          "name": "stdout",
          "text": [
            "epoch: 1,  mean loss: 2.302,  mean accuracy: 0.11,  elapsed_time :0.99\n",
            "epoch: 2,  mean loss: 2.29,  mean accuracy: 0.22,  elapsed_time :1.79\n",
            "epoch: 3,  mean loss: 2.27,  mean accuracy: 0.32,  elapsed_time :2.57\n",
            "epoch: 4,  mean loss: 2.233,  mean accuracy: 0.33,  elapsed_time :3.34\n",
            "epoch: 5,  mean loss: 2.146,  mean accuracy: 0.4,  elapsed_time :4.13\n",
            "test accuracy: 0.1987\n",
            "epoch: 6,  mean loss: 1.934,  mean accuracy: 0.44,  elapsed_time :8.35\n",
            "epoch: 7,  mean loss: 1.659,  mean accuracy: 0.39,  elapsed_time :9.15\n",
            "epoch: 8,  mean loss: 1.519,  mean accuracy: 0.5,  elapsed_time :9.93\n",
            "epoch: 9,  mean loss: 1.203,  mean accuracy: 0.59,  elapsed_time :10.71\n",
            "epoch: 10,  mean loss: 0.824,  mean accuracy: 0.72,  elapsed_time :11.48\n",
            "test accuracy: 0.1783\n",
            "epoch: 11,  mean loss: 1.293,  mean accuracy: 0.56,  elapsed_time :15.73\n",
            "epoch: 12,  mean loss: 0.956,  mean accuracy: 0.7,  elapsed_time :16.49\n",
            "epoch: 13,  mean loss: 0.692,  mean accuracy: 0.79,  elapsed_time :17.25\n",
            "epoch: 14,  mean loss: 0.647,  mean accuracy: 0.76,  elapsed_time :18.02\n",
            "epoch: 15,  mean loss: 0.423,  mean accuracy: 0.88,  elapsed_time :18.78\n",
            "test accuracy: 0.2198\n",
            "epoch: 16,  mean loss: 0.432,  mean accuracy: 0.85,  elapsed_time :22.96\n",
            "epoch: 17,  mean loss: 0.39,  mean accuracy: 0.89,  elapsed_time :23.74\n",
            "epoch: 18,  mean loss: 0.299,  mean accuracy: 0.9,  elapsed_time :24.52\n",
            "epoch: 19,  mean loss: 0.143,  mean accuracy: 0.96,  elapsed_time :25.29\n",
            "epoch: 20,  mean loss: 0.06,  mean accuracy: 0.98,  elapsed_time :26.06\n",
            "test accuracy: 0.2061\n",
            "epoch: 21,  mean loss: 0.023,  mean accuracy: 0.99,  elapsed_time :30.23\n",
            "epoch: 22,  mean loss: 0.044,  mean accuracy: 0.99,  elapsed_time :30.98\n",
            "epoch: 23,  mean loss: 0.231,  mean accuracy: 0.97,  elapsed_time :31.72\n",
            "epoch: 24,  mean loss: 0.096,  mean accuracy: 0.98,  elapsed_time :32.49\n",
            "epoch: 25,  mean loss: 0.146,  mean accuracy: 0.96,  elapsed_time :33.24\n",
            "test accuracy: 0.2185\n"
          ]
        }
      ]
    },
    {
      "cell_type": "markdown",
      "metadata": {
        "id": "DW3VIvsZTt0G"
      },
      "source": [
        "## 半教師付き学習による学習と評価"
      ]
    },
    {
      "cell_type": "markdown",
      "metadata": {
        "id": "yIJe2NQu_L4e"
      },
      "source": [
        "### 確率分布の相違度（教師なしデータに対する損失設計）\n",
        "今回は「教師なしデータから算出した確率分布の相違度」としてKL-divergenceを使用します．"
      ]
    },
    {
      "cell_type": "code",
      "metadata": {
        "id": "XdYjccMqy5kv"
      },
      "source": [
        "# 教師なしデータに対する損失関数（KL-divergence）の定義\n",
        "def kl_divergence(logits_1, logits_2):\n",
        "    softmax_1 = F.softmax(logits_1, dim=1)\n",
        "    softmax_2 = F.softmax(logits_2, dim=1)\n",
        "    kl = (softmax_2 * torch.log((softmax_2 / (softmax_1+1e-10)) + 1e-10)).sum(dim=1)\n",
        "    return kl.mean()"
      ],
      "execution_count": 15,
      "outputs": []
    },
    {
      "cell_type": "markdown",
      "metadata": {
        "id": "T9husGpYUTI3"
      },
      "source": [
        "### 学習条件の設定\n",
        "教師付きデータに対する損失式と教師なしデータに対する損失式の設計が異なるため，教師なしデータに対する損失式に重み付けをすることで勾配の調整をします．"
      ]
    },
    {
      "cell_type": "code",
      "metadata": {
        "id": "B3n7ec4JUTI3"
      },
      "source": [
        "# エポック数の設定\n",
        "NUM_EPOCH = 25\n",
        "\n",
        "# 教師なし損失に対する重み付け\n",
        "w_unlabel = 400\n",
        "\n",
        "# ネットワークの用意\n",
        "net = CNN(widen_factor=1).cuda()\n",
        "\n",
        "# オプティマイザの設定\n",
        "optimizer = torch.optim.SGD(net.parameters(), lr=0.01, momentum=0.9)"
      ],
      "execution_count": 16,
      "outputs": []
    },
    {
      "cell_type": "markdown",
      "metadata": {
        "id": "YvH9lACsUTI3"
      },
      "source": [
        "### 学習と評価"
      ]
    },
    {
      "cell_type": "code",
      "metadata": {
        "colab": {
          "base_uri": "https://localhost:8080/"
        },
        "id": "CPUL3binTt0H",
        "outputId": "a7578fcf-f9ed-41bd-b1ec-eb45d0edbf3b"
      },
      "source": [
        "# ネットワークを学習モードへ変更\n",
        "net.train()\n",
        "\n",
        "start = time()\n",
        "for epoch in range(1, NUM_EPOCH+1):\n",
        "    # ネットワークの学習 ----------------------------------------------------------\n",
        "    # ネットワークを学習モードへ変更\n",
        "    net.train()\n",
        "\n",
        "    # ログ用の設定\n",
        "    sum_loss_sup   = 0.0\n",
        "    sum_loss_unsup = 0.0\n",
        "    sum_loss = 0.0\n",
        "    count = 0\n",
        "    \n",
        "    # 教師なし用 Dataloaderの設定\n",
        "    iter_u = iter(unsup_loader)\n",
        "    \n",
        "    for img, label in train_loader:  # 教師付きデータの取得\n",
        "        # 教師なしデータの取得\n",
        "        try:\n",
        "            unlabel_img1, unlabel_img2 = next(iter_u)\n",
        "        except StopIteration:\n",
        "            iter_u = iter(unsup_loader)\n",
        "            unlabel_img1, unlabel_img2 = next(iter_u)\n",
        "\n",
        "        # 学習データをGPUへ\n",
        "        image = torch.cat([img, unlabel_img1, unlabel_img2]).cuda()  # 教師付きデータと教師なしデータを1つに\n",
        "        label = label.cuda()\n",
        "        \n",
        "        # ネットワークへ学習データを入力\n",
        "        logits_all = net(image)\n",
        "        \n",
        "        # 損失の計算(教師付きデータ) 交差エントロピー損失\n",
        "        logits = logits_all[:len(img)]   # 教師付きデータに対する出力を抽出\n",
        "        loss_sup = F.cross_entropy(logits, label)\n",
        "\n",
        "        # 損失の計算(教師なしデータ) KL-divergence\n",
        "        logits_unsup = logits_all[len(img):]   # 教師なしデータに対する出力を抽出\n",
        "        logits1, logits2 = torch.chunk(logits_unsup, 2)\n",
        "        # KL－divergenceは距離の公理を満たさないため，(logits1 -> logits2)と(logits2 -> logits1)の平均値を損失として利用\n",
        "        loss_unsup = (kl_divergence(logits1, logits2)+kl_divergence(logits2, logits1))/2  # KL-divergence\n",
        "        #loss_unsup = F.mse_loss(logits2, logits1)   # 平均2乗誤差 (出力,ラベル)\n",
        "\n",
        "        # 最終的な損失を計算\n",
        "        loss = loss_sup + w_unlabel*loss_unsup\n",
        "        \n",
        "        # パラメータの更新\n",
        "        net.zero_grad()\n",
        "        loss.backward()\n",
        "        optimizer.step()\n",
        "        \n",
        "        # ログ用に各損失と精度の取得\n",
        "        sum_loss += loss.item()               # 損失の合計値\n",
        "        sum_loss_sup   += loss_sup.item()     # 教師付きデータに対する損失\n",
        "        sum_loss_unsup += loss_unsup.item()   # 教師なしデータに対する損失\n",
        "        \n",
        "        pred   = torch.argmax(logits, dim=1)  # 値の最も高いクラスの抽出\n",
        "        count += torch.sum(pred == label)     # 正解したデータの数をカウント\n",
        "        \n",
        "    # ログの表示\n",
        "    print( f\"epoch: {epoch},\\\n",
        "  mean loss: {round(sum_loss/len(train_loader), 3)},\\\n",
        "  label loss: {round(sum_loss_sup/len(train_loader), 3)},\\\n",
        "  unlabel loss: {round(w_unlabel*sum_loss_unsup/len(train_loader), 3)},\\\n",
        "  mean accuracy: {round(count.item()/len(train_loader.dataset), 2)},\\\n",
        "  elapsed_time :{round(time()-start, 2)}\" )\n",
        "\n",
        "    # ネットワークの評価 ----------------------------------------------------------\n",
        "    if (epoch%5 == 0) or (epoch == NUM_EPOCH):  # 5 epoch毎に評価\n",
        "        # ネットワークを評価モードへ変更\n",
        "        net.eval()\n",
        "\n",
        "        # 評価の実行\n",
        "        count = 0\n",
        "        with torch.no_grad():\n",
        "            for image, label in test_loader:\n",
        "                \n",
        "                image = image.cuda()\n",
        "                label = label.cuda()\n",
        "                \n",
        "                logits = net(image)\n",
        "                \n",
        "                pred   = torch.argmax(logits, dim=1)\n",
        "                count += torch.sum(pred == label)\n",
        "\n",
        "        # 評価結果の表示\n",
        "        print(f\"test accuracy: {round(count.item()/len(test_loader.dataset), 2)}\")"
      ],
      "execution_count": 17,
      "outputs": [
        {
          "output_type": "stream",
          "name": "stderr",
          "text": [
            "/usr/local/lib/python3.7/dist-packages/torch/utils/data/dataloader.py:481: UserWarning: This DataLoader will create 16 worker processes in total. Our suggested max number of worker in current system is 2, which is smaller than what this DataLoader is going to create. Please be aware that excessive worker creation might get DataLoader running slow or even freeze, lower the worker number to avoid potential slowness/freeze if necessary.\n",
            "  cpuset_checked))\n"
          ]
        },
        {
          "output_type": "stream",
          "name": "stdout",
          "text": [
            "epoch: 1,  mean loss: 2.316,  label loss: 2.303,  unlabel loss: 0.013,  mean accuracy: 0.06,  elapsed_time :7.55\n",
            "epoch: 2,  mean loss: 2.299,  label loss: 2.289,  unlabel loss: 0.01,  mean accuracy: 0.17,  elapsed_time :23.76\n",
            "epoch: 3,  mean loss: 2.289,  label loss: 2.277,  unlabel loss: 0.012,  mean accuracy: 0.18,  elapsed_time :33.66\n",
            "epoch: 4,  mean loss: 2.281,  label loss: 2.267,  unlabel loss: 0.014,  mean accuracy: 0.25,  elapsed_time :50.36\n",
            "epoch: 5,  mean loss: 2.275,  label loss: 2.257,  unlabel loss: 0.018,  mean accuracy: 0.27,  elapsed_time :60.73\n",
            "test accuracy: 0.16\n",
            "epoch: 6,  mean loss: 2.269,  label loss: 2.249,  unlabel loss: 0.02,  mean accuracy: 0.36,  elapsed_time :77.41\n",
            "epoch: 7,  mean loss: 2.262,  label loss: 2.24,  unlabel loss: 0.023,  mean accuracy: 0.54,  elapsed_time :93.81\n",
            "epoch: 8,  mean loss: 2.255,  label loss: 2.227,  unlabel loss: 0.027,  mean accuracy: 0.53,  elapsed_time :103.86\n",
            "epoch: 9,  mean loss: 2.249,  label loss: 2.221,  unlabel loss: 0.028,  mean accuracy: 0.7,  elapsed_time :120.4\n",
            "epoch: 10,  mean loss: 2.244,  label loss: 2.209,  unlabel loss: 0.035,  mean accuracy: 0.69,  elapsed_time :130.95\n",
            "test accuracy: 0.22\n",
            "epoch: 11,  mean loss: 2.237,  label loss: 2.197,  unlabel loss: 0.04,  mean accuracy: 0.76,  elapsed_time :147.75\n",
            "epoch: 12,  mean loss: 2.227,  label loss: 2.188,  unlabel loss: 0.039,  mean accuracy: 0.83,  elapsed_time :162.17\n",
            "epoch: 13,  mean loss: 2.225,  label loss: 2.178,  unlabel loss: 0.047,  mean accuracy: 0.89,  elapsed_time :177.68\n",
            "epoch: 14,  mean loss: 2.215,  label loss: 2.164,  unlabel loss: 0.051,  mean accuracy: 0.9,  elapsed_time :189.49\n",
            "epoch: 15,  mean loss: 2.206,  label loss: 2.152,  unlabel loss: 0.054,  mean accuracy: 0.92,  elapsed_time :204.47\n",
            "test accuracy: 0.29\n",
            "epoch: 16,  mean loss: 2.206,  label loss: 2.141,  unlabel loss: 0.065,  mean accuracy: 0.89,  elapsed_time :219.03\n",
            "epoch: 17,  mean loss: 2.19,  label loss: 2.124,  unlabel loss: 0.066,  mean accuracy: 0.94,  elapsed_time :236.08\n",
            "epoch: 18,  mean loss: 2.183,  label loss: 2.109,  unlabel loss: 0.074,  mean accuracy: 0.95,  elapsed_time :246.11\n",
            "epoch: 19,  mean loss: 2.175,  label loss: 2.098,  unlabel loss: 0.077,  mean accuracy: 0.95,  elapsed_time :263.5\n",
            "epoch: 20,  mean loss: 2.166,  label loss: 2.078,  unlabel loss: 0.088,  mean accuracy: 0.92,  elapsed_time :273.87\n",
            "test accuracy: 0.29\n",
            "epoch: 21,  mean loss: 2.151,  label loss: 2.063,  unlabel loss: 0.088,  mean accuracy: 0.97,  elapsed_time :291.2\n",
            "epoch: 22,  mean loss: 2.149,  label loss: 2.037,  unlabel loss: 0.112,  mean accuracy: 0.95,  elapsed_time :308.63\n",
            "epoch: 23,  mean loss: 2.133,  label loss: 2.037,  unlabel loss: 0.097,  mean accuracy: 0.97,  elapsed_time :318.93\n",
            "epoch: 24,  mean loss: 2.126,  label loss: 2.002,  unlabel loss: 0.124,  mean accuracy: 0.98,  elapsed_time :335.58\n",
            "epoch: 25,  mean loss: 2.115,  label loss: 2.001,  unlabel loss: 0.114,  mean accuracy: 0.99,  elapsed_time :346.09\n",
            "test accuracy: 0.29\n"
          ]
        }
      ]
    }
  ]
}